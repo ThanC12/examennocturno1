{
 "cells": [
  {
   "cell_type": "code",
   "execution_count": null,
   "id": "e331b6cd-d693-46ab-b975-1202d108b341",
   "metadata": {},
   "outputs": [],
   "source": [
    "<img src=\"img/Recurso-26.png\" width=\"200\"/>\n",
    "\n",
    "# Introducción \n",
    "\n",
    "Machine E-learning es una rama de la IA<br>\n",
    "<img src=\"img/python_logo.png\"><br>\n",
    "\n",
    "**Nombre:** Joanthan Cordero<br>\n",
    "*Fecha:* 25/06/2024<br>\n",
    "<a href=\"https://github.com/ThanC12/examennocturno1.git\">Enlace a GitHub</a><br>\n",
    "## Lenguajes de Programación \n",
    "* Python\n",
    "* Java"
   ]
  },
  {
   "cell_type": "code",
   "execution_count": 2,
   "id": "9539d968-2823-4952-b2bf-19e6628472a3",
   "metadata": {},
   "outputs": [
    {
     "name": "stdout",
     "output_type": "stream",
     "text": [
      "Ana tiene un promedio de 8.75 → Aprobado\n",
      "Luis tiene un promedio de 5.75 → Reprobado\n",
      "Sofía tiene un promedio de 10.00 → Excelente\n",
      "Carlos tiene un promedio de 6.00 → Reprobado\n",
      "Registros:\n",
      "Aprobados: 1\n",
      "Reprobados: 2\n",
      "Excelentes: 1\n",
      "Mejor promedio: Sofía con 10.00\n",
      "Estudiantes ordenados por promedio:\n",
      "Sofía → 10.00 (Excelente)\n",
      "Ana → 8.75 (Aprobado)\n",
      "Carlos → 6.00 (Reprobado)\n",
      "Luis → 5.75 (Reprobado)\n"
     ]
    }
   ],
   "source": [
    "estudiantes = [\n",
    "    {\"nombre\": \"Ana\", \"notas\": [8, 8, 10, 9]},\n",
    "    {\"nombre\": \"Luis\", \"notas\": [5, 7, 5, 6]},\n",
    "    {\"nombre\": \"Sofía\", \"notas\": [10, 10, 10, 10]},\n",
    "    {\"nombre\": \"Carlos\", \"notas\": [3, 6, 8, 7]}\n",
    "]\n",
    "\n",
    "for x in estudiantes:\n",
    "    x[\"promedio\"] = sum(x[\"notas\"]) / len(x[\"notas\"])\n",
    "    if x[\"promedio\"] >= 9:\n",
    "        x[\"NOTAS\"] = \"Excelente\"\n",
    "    elif x[\"promedio\"] >= 7:\n",
    "        x[\"NOTAS\"] = \"Aprobado\"\n",
    "    else:\n",
    "        x[\"NOTAS\"] = \"Reprobado\"\n",
    "\n",
    "for x in estudiantes:\n",
    "    print(f\"{x['nombre']} tiene un promedio de {x['promedio']:.2f} → {x['NOTAS']}\")\n",
    "\n",
    "aprobados = sum(1 for x in estudiantes if x[\"NOTAS\"] == \"Aprobado\")\n",
    "reprobados = sum(1 for x in estudiantes if x[\"NOTAS\"] == \"Reprobado\")\n",
    "excelentes = sum(1 for x in estudiantes if x[\"NOTAS\"] == \"Excelente\")\n",
    "mejor = max(estudiantes, key=lambda x: x[\"promedio\"])\n",
    "ordenados = sorted(estudiantes, key=lambda x: x[\"promedio\"], reverse=True)\n",
    "\n",
    "print(\"Registros:\")\n",
    "print(f\"Aprobados: {aprobados}\")\n",
    "print(f\"Reprobados: {reprobados}\")\n",
    "print(f\"Excelentes: {excelentes}\")\n",
    "print(f\"Mejor promedio: {mejor['nombre']} con {mejor['promedio']:.2f}\")\n",
    "print(\"Estudiantes ordenados por promedio:\")\n",
    "for x in ordenados:\n",
    "    print(f\"{x['nombre']} → {x['promedio']:.2f} ({x['NOTAS']})\")"
   ]
  },
  {
   "cell_type": "markdown",
   "id": "d1a15455-9e6e-4124-a04c-918c5724c95a",
   "metadata": {},
   "source": []
  },
  {
   "cell_type": "code",
   "execution_count": null,
   "id": "5fcdf6c3-fe2d-4397-87c5-2a3e0a72def3",
   "metadata": {},
   "outputs": [],
   "source": []
  }
 ],
 "metadata": {
  "kernelspec": {
   "display_name": "Python 3 (ipykernel)",
   "language": "python",
   "name": "python3"
  },
  "language_info": {
   "codemirror_mode": {
    "name": "ipython",
    "version": 3
   },
   "file_extension": ".py",
   "mimetype": "text/x-python",
   "name": "python",
   "nbconvert_exporter": "python",
   "pygments_lexer": "ipython3",
   "version": "3.13.5"
  }
 },
 "nbformat": 4,
 "nbformat_minor": 5
}
